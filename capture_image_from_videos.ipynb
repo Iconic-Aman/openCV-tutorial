{
 "cells": [
  {
   "cell_type": "code",
   "execution_count": 2,
   "metadata": {},
   "outputs": [],
   "source": [
    "import cv2 as cv\n",
    "import os"
   ]
  },
  {
   "cell_type": "code",
   "execution_count": 4,
   "metadata": {},
   "outputs": [
    {
     "data": {
      "text/plain": [
       "< cv2.VideoCapture 0000015D56848670>"
      ]
     },
     "execution_count": 4,
     "metadata": {},
     "output_type": "execute_result"
    }
   ],
   "source": [
    "cam = cv.VideoCapture('Tensorboard Introduction   Deep Learning Tutorial 16 (Tensorflow20, Keras u0026 Python[1].mp4')\n",
    "cam"
   ]
  },
  {
   "cell_type": "code",
   "execution_count": 13,
   "metadata": {},
   "outputs": [
    {
     "ename": "KeyboardInterrupt",
     "evalue": "",
     "output_type": "error",
     "traceback": [
      "\u001b[1;31m---------------------------------------------------------------------------\u001b[0m",
      "\u001b[1;31mKeyboardInterrupt\u001b[0m                         Traceback (most recent call last)",
      "\u001b[1;32md:\\OPEN CV\\openCV tutorial\\capture_image_from_videos.ipynb Cell 3\u001b[0m line \u001b[0;36m3\n\u001b[0;32m      <a href='vscode-notebook-cell:/d%3A/OPEN%20CV/openCV%20tutorial/capture_image_from_videos.ipynb#W2sZmlsZQ%3D%3D?line=0'>1</a>\u001b[0m frameNo \u001b[39m=\u001b[39m \u001b[39m0\u001b[39m\n\u001b[0;32m      <a href='vscode-notebook-cell:/d%3A/OPEN%20CV/openCV%20tutorial/capture_image_from_videos.ipynb#W2sZmlsZQ%3D%3D?line=1'>2</a>\u001b[0m \u001b[39mwhile\u001b[39;00m(\u001b[39m1\u001b[39m):\n\u001b[1;32m----> <a href='vscode-notebook-cell:/d%3A/OPEN%20CV/openCV%20tutorial/capture_image_from_videos.ipynb#W2sZmlsZQ%3D%3D?line=2'>3</a>\u001b[0m     ret, frame \u001b[39m=\u001b[39m cam\u001b[39m.\u001b[39;49mread()\n\u001b[0;32m      <a href='vscode-notebook-cell:/d%3A/OPEN%20CV/openCV%20tutorial/capture_image_from_videos.ipynb#W2sZmlsZQ%3D%3D?line=3'>4</a>\u001b[0m     \u001b[39mif\u001b[39;00m ret:\n\u001b[0;32m      <a href='vscode-notebook-cell:/d%3A/OPEN%20CV/openCV%20tutorial/capture_image_from_videos.ipynb#W2sZmlsZQ%3D%3D?line=4'>5</a>\u001b[0m         name  \u001b[39m=\u001b[39m \u001b[39m'\u001b[39m\u001b[39mvideo\u001b[39m\u001b[39m'\u001b[39m \u001b[39m+\u001b[39m \u001b[39mstr\u001b[39m(frameNo) \u001b[39m+\u001b[39m \u001b[39m'\u001b[39m\u001b[39m.jpg\u001b[39m\u001b[39m'\u001b[39m\n",
      "\u001b[1;31mKeyboardInterrupt\u001b[0m: "
     ]
    }
   ],
   "source": [
    "frameNo = 0\n",
    "while(1):\n",
    "    ret, frame = cam.read()\n",
    "    if ret:\n",
    "        name  = 'video' + str(frameNo) + '.jpg'\n",
    "\n",
    "        # print('new frame'+ name)\n",
    "        key = cv.waitKey(0)\n",
    "        if(key == ord('s')):\n",
    "            cv.imwrite(name, frame)\n",
    "        frameNo += 1\n",
    "    else:\n",
    "        break\n",
    "\n",
    "cam.release()\n",
    "cv.destroyAllWindows()"
   ]
  },
  {
   "cell_type": "code",
   "execution_count": null,
   "metadata": {},
   "outputs": [],
   "source": []
  }
 ],
 "metadata": {
  "kernelspec": {
   "display_name": "Python 3",
   "language": "python",
   "name": "python3"
  },
  "language_info": {
   "codemirror_mode": {
    "name": "ipython",
    "version": 3
   },
   "file_extension": ".py",
   "mimetype": "text/x-python",
   "name": "python",
   "nbconvert_exporter": "python",
   "pygments_lexer": "ipython3",
   "version": "3.11.4"
  }
 },
 "nbformat": 4,
 "nbformat_minor": 2
}
