{
 "cells": [
  {
   "cell_type": "code",
   "execution_count": 2,
   "metadata": {},
   "outputs": [],
   "source": [
    "import numpy as np\n",
    "import cv2 as cv    "
   ]
  },
  {
   "cell_type": "code",
   "execution_count": 26,
   "metadata": {},
   "outputs": [],
   "source": [
    "face_cascade = cv.CascadeClassifier('haarcascade_frontalface_default.xml')\n",
    "eye_cascade = cv.CascadeClassifier('haarcascade_frontalface_default.xml')"
   ]
  },
  {
   "cell_type": "code",
   "execution_count": 4,
   "metadata": {},
   "outputs": [],
   "source": [
    "#take input image\n",
    "img = cv.imread('one.jpg')"
   ]
  },
  {
   "cell_type": "code",
   "execution_count": 5,
   "metadata": {},
   "outputs": [],
   "source": [
    "# cv.rectangle(img, (50,20), (300,180),(0,255,0), 4)\n",
    "# cv.waitKey(2000)\n",
    "# cv.destroyAllWindows()"
   ]
  },
  {
   "cell_type": "code",
   "execution_count": 6,
   "metadata": {},
   "outputs": [],
   "source": [
    "#detect faces\n",
    "faces = face_cascade.detectMultiScale(img, 1.3, 5)\n",
    "for (x, y, w, h) in faces:\n",
    "    img = cv.rectangle(img, (x,y), (x+w, y+h), (0,255,0), 2)\n",
    "\n",
    "cv.imshow('Image', img)\n",
    "cv.waitKey(0)\n",
    "cv.destroyAllWindows()\n",
    "     "
   ]
  },
  {
   "cell_type": "code",
   "execution_count": 20,
   "metadata": {},
   "outputs": [],
   "source": [
    "txt = 'face detected'\n",
    "font = cv.FONT_HERSHEY_COMPLEX_SMALL"
   ]
  },
  {
   "cell_type": "markdown",
   "metadata": {},
   "source": [
    "### face detection in camera"
   ]
  },
  {
   "cell_type": "code",
   "execution_count": 27,
   "metadata": {},
   "outputs": [],
   "source": [
    "cam = cv.VideoCapture(0)\n",
    "while(1):\n",
    "    ret, frame = cam.read()\n",
    "    faces = face_cascade.detectMultiScale(frame, 1.1, 5)\n",
    "    cv.namedWindow('Window', cv.WINDOW_NORMAL)\n",
    "    cv.resizeWindow('Window', 1600, 900)\n",
    "    if not ret:\n",
    "        print('face not detected')\n",
    "    for(x, y, w, h) in faces:\n",
    "        frame = cv.rectangle(frame, (x,y), (x+w, y+h), (0,255,0), 3)\n",
    "        \n",
    "        cv.putText(frame,txt,(x,y-30), font, 1,(0,0,0),2,cv.LINE_AA)\n",
    "        \n",
    "        # print('faces detected')\n",
    "    cv.imshow('Window', frame)\n",
    "    key = cv.waitKey(1)\n",
    "    if(key == ord('s')):\n",
    "        break\n",
    "cam.release()\n",
    "cv.destroyAllWindows()"
   ]
  }
 ],
 "metadata": {
  "kernelspec": {
   "display_name": "Python 3",
   "language": "python",
   "name": "python3"
  },
  "language_info": {
   "codemirror_mode": {
    "name": "ipython",
    "version": 3
   },
   "file_extension": ".py",
   "mimetype": "text/x-python",
   "name": "python",
   "nbconvert_exporter": "python",
   "pygments_lexer": "ipython3",
   "version": "3.11.4"
  }
 },
 "nbformat": 4,
 "nbformat_minor": 2
}
