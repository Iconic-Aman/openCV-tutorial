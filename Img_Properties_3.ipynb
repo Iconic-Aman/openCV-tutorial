{
 "cells": [
  {
   "cell_type": "code",
   "execution_count": 74,
   "metadata": {},
   "outputs": [
    {
     "data": {
      "text/plain": [
       "((600, 800, 3), (600, 800, 3))"
      ]
     },
     "execution_count": 74,
     "metadata": {},
     "output_type": "execute_result"
    }
   ],
   "source": [
    "import cv2 as cv\n",
    "import matplotlib.pyplot as plt\n",
    "img = cv.imread('img.jpg', 1)\n",
    "img2 = cv.imread('img.jpg',1)\n",
    "\n",
    "img.shape, img2.shape"
   ]
  },
  {
   "cell_type": "code",
   "execution_count": 75,
   "metadata": {},
   "outputs": [],
   "source": [
    "#We can access and manipulate any pixel’s value, with the help of the command mentioned \n",
    "# below\n",
    "img.size\n",
    "p  = img[100,200]\n"
   ]
  },
  {
   "cell_type": "code",
   "execution_count": 76,
   "metadata": {},
   "outputs": [],
   "source": [
    "#we can change the color of pixel using for loop\n",
    "for i in range(100,200):\n",
    "    for j in range(200):\n",
    "        img[i,j] = [0,0,0]"
   ]
  },
  {
   "cell_type": "code",
   "execution_count": 77,
   "metadata": {},
   "outputs": [],
   "source": [
    "cv.imshow('d',img)\n",
    "cv.waitKey(3000)\n",
    "cv.destroyAllWindows()"
   ]
  },
  {
   "cell_type": "markdown",
   "metadata": {},
   "source": [
    "    The image channels can be split in individual planes by using the split() function. The \n",
    "    channels can be merged by using merge() function.\n",
    "    The split() function returns a multi-channel array.\n"
   ]
  },
  {
   "cell_type": "code",
   "execution_count": null,
   "metadata": {},
   "outputs": [],
   "source": [
    "img = img2\n",
    "b, g, r = cv.split(img)\n",
    "img[0,:,:] = 0\n",
    "cv.imshow('d',img)\n",
    "cv.waitKey(3000)\n",
    "cv.destroyAllWindows()"
   ]
  },
  {
   "cell_type": "code",
   "execution_count": null,
   "metadata": {},
   "outputs": [],
   "source": []
  }
 ],
 "metadata": {
  "kernelspec": {
   "display_name": "Python 3",
   "language": "python",
   "name": "python3"
  },
  "language_info": {
   "codemirror_mode": {
    "name": "ipython",
    "version": 3
   },
   "file_extension": ".py",
   "mimetype": "text/x-python",
   "name": "python",
   "nbconvert_exporter": "python",
   "pygments_lexer": "ipython3",
   "version": "3.11.4"
  }
 },
 "nbformat": 4,
 "nbformat_minor": 2
}
