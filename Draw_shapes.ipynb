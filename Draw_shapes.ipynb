{
 "cells": [
  {
   "cell_type": "code",
   "execution_count": 51,
   "metadata": {},
   "outputs": [
    {
     "data": {
      "text/plain": [
       "(600, 800, 3)"
      ]
     },
     "execution_count": 51,
     "metadata": {},
     "output_type": "execute_result"
    }
   ],
   "source": [
    "import cv2 as cv\n",
    "import matplotlib.pyplot as plt\n",
    "img = cv.imread('img.jpg', 1)\n",
    "img.shape"
   ]
  },
  {
   "cell_type": "code",
   "execution_count": 52,
   "metadata": {},
   "outputs": [],
   "source": [
    "# circle = cv.circle(img,center=(300,300), radius=130, color= (123,100,241),thickness=-1) #Thickness = -1 means it will fill the shape\n",
    "# cv.rectangle(img, (200,200), (400,500),(0,255,0), 4)\n",
    "# cv.imshow('circle', img)\n",
    "# cv.waitKey(2000)\n",
    "# cv.destroyAllWindows()"
   ]
  },
  {
   "cell_type": "markdown",
   "metadata": {},
   "source": [
    "    Draw text   "
   ]
  },
  {
   "cell_type": "code",
   "execution_count": 71,
   "metadata": {},
   "outputs": [],
   "source": [
    "img2 = cv.imread('img.jpg', 1)\n",
    "txt = 'aman'\n",
    "font = cv.FONT_HERSHEY_PLAIN\n",
    "cv.putText(img2,txt,(100,100), font, 4,(0,0,0),2,cv.LINE_AA)\n",
    "cv.rectangle(img2, (50,20), (300,180),(0,255,0), 4)\n",
    "cv.imshow('circle', img2)\n",
    "cv.waitKey(2000)\n",
    "cv.destroyAllWindows()"
   ]
  }
 ],
 "metadata": {
  "kernelspec": {
   "display_name": "Python 3",
   "language": "python",
   "name": "python3"
  },
  "language_info": {
   "codemirror_mode": {
    "name": "ipython",
    "version": 3
   },
   "file_extension": ".py",
   "mimetype": "text/x-python",
   "name": "python",
   "nbconvert_exporter": "python",
   "pygments_lexer": "ipython3",
   "version": "3.11.4"
  }
 },
 "nbformat": 4,
 "nbformat_minor": 2
}
