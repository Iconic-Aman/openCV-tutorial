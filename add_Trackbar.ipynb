{
 "cells": [
  {
   "cell_type": "code",
   "execution_count": 17,
   "metadata": {},
   "outputs": [],
   "source": [
    "import numpy as np\n",
    "import cv2 as cv"
   ]
  },
  {
   "cell_type": "code",
   "execution_count": 21,
   "metadata": {},
   "outputs": [],
   "source": [
    "img = np.zeros((300,400,3), np.uint8)"
   ]
  },
  {
   "cell_type": "code",
   "execution_count": 22,
   "metadata": {},
   "outputs": [
    {
     "data": {
      "text/plain": [
       "numpy.uint8"
      ]
     },
     "execution_count": 22,
     "metadata": {},
     "output_type": "execute_result"
    }
   ],
   "source": [
    "type(img[0][0][0])"
   ]
  },
  {
   "cell_type": "code",
   "execution_count": 23,
   "metadata": {},
   "outputs": [],
   "source": [
    "def nothing(x): pass"
   ]
  },
  {
   "cell_type": "code",
   "execution_count": 27,
   "metadata": {},
   "outputs": [],
   "source": [
    "cv.namedWindow('window')\n",
    "#create trackbars for color change\n",
    "cv.createTrackbar('R', 'window', 0, 255, nothing)\n",
    "cv.createTrackbar('G', 'window', 0, 255, nothing)\n",
    "cv.createTrackbar('B', 'window', 0, 255, nothing)\n",
    "\n",
    "while(True):\n",
    "    cv.imshow('window', img)\n",
    "    k = cv.waitKey(1)\n",
    "    if k == 27:\n",
    "        break\n",
    "\n",
    "    #get current pos of all trackbars\n",
    "    r = cv.getTrackbarPos('R', 'window')\n",
    "    g = cv.getTrackbarPos('G', 'window')\n",
    "    b = cv.getTrackbarPos('B', 'window')\n",
    "    cv.rectangle(img, (100,100),(200,200), (b,g,r),-1)\n",
    "    \n",
    "cv.destroyAllWindows()"
   ]
  },
  {
   "cell_type": "code",
   "execution_count": 1,
   "metadata": {},
   "outputs": [
    {
     "name": "stdout",
     "output_type": "stream",
     "text": [
      "True\n",
      "140725096604552 140725096604552\n"
     ]
    }
   ],
   "source": [
    "a= 4\n",
    "b= 4\n",
    "print(a is b)\n",
    "print(id(a), id(b))\n"
   ]
  },
  {
   "cell_type": "code",
   "execution_count": 15,
   "metadata": {},
   "outputs": [
    {
     "name": "stdout",
     "output_type": "stream",
     "text": [
      "False\n",
      "2533436923728 2533436922096\n"
     ]
    }
   ],
   "source": [
    "a= -6\n",
    "b= -6\n",
    "print(a is b)\n",
    "print(id(a), id(b))  \n",
    "# -5 to 256\n"
   ]
  }
 ],
 "metadata": {
  "kernelspec": {
   "display_name": "Python 3",
   "language": "python",
   "name": "python3"
  },
  "language_info": {
   "codemirror_mode": {
    "name": "ipython",
    "version": 3
   },
   "file_extension": ".py",
   "mimetype": "text/x-python",
   "name": "python",
   "nbconvert_exporter": "python",
   "pygments_lexer": "ipython3",
   "version": "3.11.4"
  }
 },
 "nbformat": 4,
 "nbformat_minor": 2
}
